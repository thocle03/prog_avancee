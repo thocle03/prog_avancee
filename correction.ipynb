{
  "nbformat": 4,
  "nbformat_minor": 0,
  "metadata": {
    "colab": {
      "provenance": []
    },
    "kernelspec": {
      "name": "python3",
      "display_name": "Python 3"
    },
    "language_info": {
      "name": "python"
    }
  },
  "cells": [
    {
      "cell_type": "code",
      "execution_count": null,
      "metadata": {
        "id": "D7TeYnrWZK0a"
      },
      "outputs": [],
      "source": [
        "# ===========================================================\n",
        "# IMPLÉMENTATION D'UN ALGORITHME GÉNÉTIQUE\n",
        "# PROBLÈME : Voyageur de commerce (TSP)\n",
        "# Auteur : Dr. Omar Abdeddaim\n",
        "# ===========================================================\n",
        "\n",
        "import pandas as pd\n",
        "import numpy as np\n",
        "import random as rnd\n",
        "\n",
        "# Variables représentent des villes\n",
        "variables_decision = [0, 1, 2, 3, 4, 5, 6]\n",
        "\n",
        "# Matrice des distances entre 7 villes\n",
        "distances = np.array([\n",
        "    [0.00, 12.34, 45.67, 23.45, 56.78, 34.56, 29.87],\n",
        "    [12.34, 0.00, 33.21, 41.23, 25.76, 48.91, 38.44],\n",
        "    [45.67, 33.21, 0.00, 27.89, 36.54, 21.43, 31.32],\n",
        "    [23.45, 41.23, 27.89, 0.00, 32.98, 19.76, 40.50],\n",
        "    [56.78, 25.76, 36.54, 32.98, 0.00, 28.64, 44.12],\n",
        "    [34.56, 48.91, 21.43, 19.76, 28.64, 0.00, 26.57],\n",
        "    [29.87, 38.44, 31.32, 40.50, 44.12, 26.57, 0.00]\n",
        "])\n",
        "\n",
        "def fonction_fitness(solution):\n",
        "    distance_totale = 0\n",
        "    for i in range(len(solution)-1):\n",
        "        distance_totale += distances[variables_decision.index(solution[i]), variables_decision.index(solution[i+1])]\n",
        "    return distance_totale\n",
        "\n",
        "def initialiser_population(iters):\n",
        "    sac_population = []\n",
        "    for i in range(iters):\n",
        "        sol_aleatoire = variables_decision.copy()\n",
        "        rnd.shuffle(sol_aleatoire)\n",
        "        sac_population.append(sol_aleatoire)\n",
        "    return np.array(sac_population)\n",
        "\n",
        "def evaluer_population(sac_population):\n",
        "    resultats = {}\n",
        "    valeurs_fitness = []\n",
        "    solutions = []\n",
        "    for solution in sac_population:\n",
        "        valeurs_fitness.append(fonction_fitness(solution))\n",
        "        solutions.append(solution)\n",
        "    resultats[\"valeurs_fitness\"] = valeurs_fitness\n",
        "    poids = [np.max(valeurs_fitness)-i for i in valeurs_fitness]\n",
        "    resultats[\"poids_fitness\"] = [i/sum(poids) for i in poids]\n",
        "    resultats[\"solutions\"] = np.array(solutions)\n",
        "    return resultats\n",
        "\n",
        "def selectionner_individu(sac_population):\n",
        "    evaluation = evaluer_population(sac_population)\n",
        "    while True:\n",
        "        index = rnd.randint(0, len(sac_population)-1)\n",
        "        chance = evaluation[\"poids_fitness\"][index]\n",
        "        if rnd.random() <= chance:\n",
        "            return evaluation[\"solutions\"][index]\n",
        "\n",
        "def croisement(parentA, parentB):\n",
        "    n = len(parentA)\n",
        "    enfant = [np.nan for _ in range(n)]\n",
        "    nb_elements = np.ceil(n * (rnd.randint(10, 90) / 100))\n",
        "    debut = rnd.randint(0, n-2)\n",
        "    fin = n if int(debut + nb_elements) > n else int(debut + nb_elements)\n",
        "    bloc = list(parentA[debut:fin])\n",
        "    enfant[debut:fin] = bloc\n",
        "    for i in range(n):\n",
        "        if bloc.count(parentB[i]) == 0:\n",
        "            for j in range(n):\n",
        "                if np.isnan(enfant[j]):\n",
        "                    enfant[j] = parentB[i]\n",
        "                    break\n",
        "    return enfant\n",
        "\n",
        "def mutation(solution):\n",
        "    n = len(solution)\n",
        "    pos1 = rnd.randint(0, n-1)\n",
        "    pos2 = rnd.randint(0, n-1)\n",
        "    return echanger(solution, pos1, pos2)\n",
        "\n",
        "def echanger(solution, posA, posB):\n",
        "    resultat = solution.copy()\n",
        "    resultat[posA], resultat[posB] = resultat[posB], resultat[posA]\n",
        "    return resultat\n"
      ]
    },
    {
      "cell_type": "code",
      "source": [
        "# ========================================================\n",
        "# ============ DÉMARRAGE DU PROCESSUS ÉVOLUTIF ===========\n",
        "# ========================================================\n",
        "pop_num = 100\n",
        "sac_population = initialiser_population(pop_num)\n",
        "\n",
        "for generation in range(200):\n",
        "    evaluation = evaluer_population(sac_population)\n",
        "    meilleure_fitness = np.min(evaluation[\"valeurs_fitness\"])\n",
        "    indice_meilleur = evaluation[\"valeurs_fitness\"].index(meilleure_fitness)\n",
        "    meilleure_solution = evaluation[\"solutions\"][indice_meilleur]\n",
        "\n",
        "    if generation == 0 or meilleure_fitness < meilleure_fitness_globale:\n",
        "        meilleure_fitness_globale = meilleure_fitness\n",
        "        meilleure_solution_globale = meilleure_solution\n",
        "\n",
        "    nouvelle_population = []\n",
        "    for i in range(10):\n",
        "        parentA = selectionner_individu(sac_population)\n",
        "        parentB = selectionner_individu(sac_population)\n",
        "        enfant = parentA\n",
        "        if rnd.random() <= 0.87:\n",
        "            enfant = croisement(parentA, parentB)\n",
        "        if rnd.random() <= 0.7:\n",
        "            enfant = mutation(enfant)\n",
        "        nouvelle_population.append(enfant)\n",
        "\n",
        "    sac_population = np.array(nouvelle_population)\n",
        "\n",
        "# Affichage des résultats\n",
        "print(f\"Meilleure distance trouvée : {meilleure_fitness_globale}\")\n",
        "print(f\"Ordre des villes : {meilleure_solution_globale}\")"
      ],
      "metadata": {
        "colab": {
          "base_uri": "https://localhost:8080/"
        },
        "id": "t9TMoVls6HTO",
        "outputId": "8e979e8c-672c-48aa-dbe8-ac269c97f7da"
      },
      "execution_count": null,
      "outputs": [
        {
          "output_type": "stream",
          "name": "stdout",
          "text": [
            "Meilleure distance trouvée : 134.06\n",
            "Ordre des villes : [6 2 5 3 0 1 4]\n"
          ]
        }
      ]
    }
  ]
}